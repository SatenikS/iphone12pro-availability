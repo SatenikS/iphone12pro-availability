{
  "nbformat": 4,
  "nbformat_minor": 0,
  "metadata": {
    "colab": {
      "name": "iPhone12-Pro.ipynb",
      "provenance": [],
      "collapsed_sections": [],
      "include_colab_link": true
    },
    "kernelspec": {
      "name": "python3",
      "display_name": "Python 3"
    }
  },
  "cells": [
    {
      "cell_type": "markdown",
      "metadata": {
        "id": "view-in-github",
        "colab_type": "text"
      },
      "source": [
        "<a href=\"https://colab.research.google.com/github/SatenikS/iphone12pro-availability/blob/main/iPhone12-Pro.ipynb\" target=\"_parent\"><img src=\"https://colab.research.google.com/assets/colab-badge.svg\" alt=\"Open In Colab\"/></a>"
      ]
    },
    {
      "cell_type": "markdown",
      "metadata": {
        "id": "gV9GtoJh220d"
      },
      "source": [
        "# **Scraper to check iPhone 12 Pro availability in Apple stores**\n",
        "\n",
        "\n",
        "In this project I have created a scraper to identify iPhone 12 Pro availability in Apple stores for a given zip code.\n",
        "\n",
        "At the time of creating this notebook the earliest delivery date for the new iPhone 12 Pro is 3-4 weeks away. There are also no phones available for in-store pickup. Customer representatives recommend checking the Apple website regularly for occasional phone availability. Few hours after creating this scraper I received an email notifying me of one available phone with my desired color and capacity. One day later I was holding the phone in my hand!"
      ]
    },
    {
      "cell_type": "code",
      "metadata": {
        "id": "4j3DuJRtybEn"
      },
      "source": [
        "# !pip install selenium\n",
        "# !apt-get update # to update ubuntu to correctly run apt install\n",
        "# !apt install chromium-chromedriver\n",
        "# !cp /usr/lib/chromium-browser/chromedriver /usr/bin\n",
        "# !pip install random_user_agent"
      ],
      "execution_count": null,
      "outputs": []
    },
    {
      "cell_type": "code",
      "metadata": {
        "id": "VCSuW-1ayjWS"
      },
      "source": [
        "# Imports libraries\n",
        "import sys\n",
        "import time\n",
        "sys.path.insert(0,'/usr/lib/chromium-browser/chromedriver')\n",
        "from selenium import webdriver\n",
        "from selenium.webdriver.common.keys import Keys\n",
        "from random_user_agent.user_agent import UserAgent\n",
        "from random_user_agent.params import SoftwareName, OperatingSystem\n",
        "import smtplib, ssl"
      ],
      "execution_count": null,
      "outputs": []
    },
    {
      "cell_type": "code",
      "metadata": {
        "id": "l8k1U9u20Wfi"
      },
      "source": [
        "def check_iphone_availability(zip, size_max, color, gb):\n",
        "  \"\"\"Checks Apple website for iPhone pick-up availability\n",
        "\n",
        "        Args:\n",
        "            zip (str): Five digit zip code\n",
        "            size_max (bool): True for iPhone 12 Pro Max\n",
        "            color (str): Color of the iPhone (blue, silver, gray or gold)\n",
        "            gb (int): GB size of the iPhone (128, 256 or 512)\n",
        "\n",
        "        Returns:\n",
        "            str: Response from Apple website\n",
        "  \"\"\"\n",
        "  # Validates inputs\n",
        "  if len(zip) != 5:\n",
        "        raise ValueError('Invalid zip length, 5 digit string required')\n",
        "  if color not in ['blue', 'silver', 'gray', 'gold']:\n",
        "        raise ValueError('Invalid color, acceptable values are blue, silver, gray or gold')\n",
        "  if gb not in [128, 256, 512]:\n",
        "        raise ValueError('Invalid GB, acceptable values are 128, 256 or 512')\n",
        "\n",
        "  # Sets sleep duration\n",
        "  slp = 3\n",
        "\n",
        "  # Initializes the webdriver\n",
        "  software_names = [SoftwareName.CHROME.value]\n",
        "  operating_systems = [OperatingSystem.WINDOWS.value,\n",
        "                      OperatingSystem.LINUX.value]\n",
        "\n",
        "  user_agent_rotator = UserAgent(software_names=software_names,\n",
        "                                operating_systems=operating_systems,\n",
        "                                limit=100)\n",
        "\n",
        "  user_agent = user_agent_rotator.get_random_user_agent()\n",
        "\n",
        "  chrome_options = webdriver.ChromeOptions()\n",
        "  chrome_options.add_argument('--headless')\n",
        "  chrome_options.add_argument('--no-sandbox')\n",
        "  chrome_options.add_argument('--window-size=1200,800')\n",
        "  chrome_options.add_argument('--disable-gpu')\n",
        "  chrome_options.add_argument(f'user-agent={user_agent}')\n",
        "  wd = webdriver.Chrome('chromedriver',options=chrome_options)\n",
        "\n",
        "  # Generates the URL\n",
        "  colors = {'blue': 'pacific-blue',\n",
        "            'gray': 'graphite',\n",
        "            'silver': 'silver',\n",
        "            'gold': 'gold'}\n",
        "  url = 'https://www.apple.com/shop/buy-iphone/iphone-12-pro/'\n",
        "  if size_max:\n",
        "    url += '6.7'\n",
        "  else:\n",
        "    url += '6.1'\n",
        "  url += '-inch-display-'\n",
        "  url += str(gb) + 'gb-'\n",
        "  url += colors[color]\n",
        "  url += '-unlocked'\n",
        "\n",
        "  # Navigates to the iPhone product page\n",
        "  wd.get(url)\n",
        "\n",
        "  # Sleeps\n",
        "  time.sleep(slp)\n",
        "\n",
        "  # Answers 'No' to the trade-in question\n",
        "  element = wd.find_element_by_xpath('//*[@id=\"tradeup-inline-heroselector\"]/div/div/fieldset/div/div[1]/div/div')\n",
        "  element.click()\n",
        "\n",
        "  # Sleeps\n",
        "  time.sleep(slp)\n",
        "\n",
        "  # Clicks 'Check availability' or 'Check another store'\n",
        "  try:\n",
        "    elements = wd.find_elements_by_xpath(\"//*[contains(text(), 'Check availability')]\")\n",
        "    elements[0].click()\n",
        "  except:\n",
        "    elements = wd.find_elements_by_xpath(\"//*[contains(text(), 'Check another store')]\")\n",
        "    elements[0].click()\n",
        "\n",
        "  # Sleeps\n",
        "  time.sleep(slp)\n",
        "\n",
        "  # Inputs the zip code and presses the Return key\n",
        "  element = wd.find_element_by_xpath('//*[@id=\"as-productlocator-query\"]')\n",
        "  element.clear()\n",
        "  element.send_keys(zip)\n",
        "  time.sleep(slp)\n",
        "  element.send_keys(Keys.RETURN)\n",
        "\n",
        "  # Sleeps\n",
        "  time.sleep(slp)\n",
        "\n",
        "  # Checks and returns the response\n",
        "  try:\n",
        "    # 'Not available today at 12 nearest stores' element\n",
        "    element = wd.find_element_by_xpath('/html/body/overlay[14]/materializer/div/div/div/product-locator/div[2]/div[2]/div[1]/div[1]/div[2]/div[2]/button/span[1]')\n",
        "  except:\n",
        "    # 'Pick it up at an Apple Store near: #####' element\n",
        "    element = wd.find_element_by_xpath('/html/body/overlay[14]/materializer/div/div/div/product-locator/div[2]/div[2]/div[1]/div[1]/div[2]/div[1]/h3')\n",
        "  return element.text"
      ],
      "execution_count": null,
      "outputs": []
    },
    {
      "cell_type": "code",
      "metadata": {
        "id": "lfRzgXUTD2_j"
      },
      "source": [
        "while True:\n",
        "  # Checks availability\n",
        "  response = check_iphone_availability(zip = '10001', size_max = True, color = 'blue', gb = 128)\n",
        "  # Sends an email if the iPhone is available\n",
        "  if response[:10] == 'Pick it up':\n",
        "    server = smtplib.SMTP('smtp.gmail.com', 587)\n",
        "    server.starttls()\n",
        "    message = 'Subject: {}\\n\\n{}'.format('iPhone Alert!', response)\n",
        "    # For Gmail login need to enable access for less secure apps\n",
        "    server.login('from@gmail.com', 'password')\n",
        "    server.sendmail('from@gmail.com', 'to@gmail.com', message)\n",
        "    server.quit()  \n",
        "    break\n",
        "  else:\n",
        "    # Sleeps for 5 minutes\n",
        "    time.sleep(5 * 60)"
      ],
      "execution_count": null,
      "outputs": []
    }
  ]
}